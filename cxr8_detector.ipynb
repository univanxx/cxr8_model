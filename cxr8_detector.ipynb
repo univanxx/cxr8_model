{
 "cells": [
  {
   "cell_type": "code",
   "execution_count": 1,
   "id": "7ae83093",
   "metadata": {},
   "outputs": [],
   "source": [
    "import torch\n",
    "import torch.nn as nn\n",
    "import torchvision.models as models"
   ]
  },
  {
   "cell_type": "code",
   "execution_count": 2,
   "id": "c4604511",
   "metadata": {},
   "outputs": [],
   "source": [
    "from MyPooling import LogSumExpPool"
   ]
  },
  {
   "cell_type": "code",
   "execution_count": 9,
   "id": "5184472a",
   "metadata": {},
   "outputs": [],
   "source": [
    "pretrained = models.resnet50(pretrained=True)\n",
    "\n",
    "class MyResNet(nn.Module):\n",
    "    \n",
    "    def __init__(self, my_pretrained_model):\n",
    "        super(MyResNet, self).__init__()\n",
    "        \n",
    "        self.pretrained = my_pretrained_model\n",
    "        self.pretrained.fc = nn.Identity()\n",
    "        self.pretrained.avgpool = nn.Identity()\n",
    "        self.transition = nn.Conv2d(2048, 2048, kernel_size=(2, 2), padding=16, bias=False)\n",
    "        self.pooling = LogSumExpPool(r=5)\n",
    "        self.prediction = nn.Linear(in_features=2048, out_features=8, bias=True)\n",
    "    \n",
    "    def forward(self, x):\n",
    "        x = self.pretrained(x)\n",
    "        x = self.transition(x[:,:,None,None])\n",
    "        x = self.pooling(x)\n",
    "        x = self.prediction(torch.flatten(x, start_dim=1))\n",
    "        return x\n",
    "\n",
    "model = MyResNet(my_pretrained_model=pretrained)"
   ]
  },
  {
   "cell_type": "code",
   "execution_count": 10,
   "id": "3101d7f0",
   "metadata": {},
   "outputs": [],
   "source": [
    "##### Вывод модели: восемь логитов\n",
    "# model.eval()\n",
    "# test_input = torch.rand(16, 3, 32, 32)\n",
    "# model(test_input)"
   ]
  },
  {
   "cell_type": "code",
   "execution_count": null,
   "id": "40c5fad1",
   "metadata": {},
   "outputs": [],
   "source": []
  },
  {
   "cell_type": "code",
   "execution_count": null,
   "id": "c5043ce3",
   "metadata": {},
   "outputs": [],
   "source": []
  },
  {
   "cell_type": "code",
   "execution_count": null,
   "id": "07efc643",
   "metadata": {},
   "outputs": [],
   "source": []
  },
  {
   "cell_type": "code",
   "execution_count": null,
   "id": "4a527e30",
   "metadata": {},
   "outputs": [],
   "source": []
  },
  {
   "cell_type": "code",
   "execution_count": null,
   "id": "840450eb",
   "metadata": {},
   "outputs": [],
   "source": []
  },
  {
   "cell_type": "code",
   "execution_count": null,
   "id": "441a9240",
   "metadata": {},
   "outputs": [],
   "source": []
  },
  {
   "cell_type": "code",
   "execution_count": null,
   "id": "22062e33",
   "metadata": {},
   "outputs": [],
   "source": []
  },
  {
   "cell_type": "code",
   "execution_count": null,
   "id": "f0308437",
   "metadata": {},
   "outputs": [],
   "source": []
  },
  {
   "cell_type": "code",
   "execution_count": null,
   "id": "5dd4b88e",
   "metadata": {},
   "outputs": [],
   "source": []
  },
  {
   "cell_type": "code",
   "execution_count": null,
   "id": "a6b955d4",
   "metadata": {},
   "outputs": [],
   "source": []
  },
  {
   "cell_type": "code",
   "execution_count": null,
   "id": "7ee972f8",
   "metadata": {},
   "outputs": [],
   "source": []
  },
  {
   "cell_type": "code",
   "execution_count": null,
   "id": "36c11b24",
   "metadata": {},
   "outputs": [],
   "source": []
  },
  {
   "cell_type": "code",
   "execution_count": null,
   "id": "a9efeec5",
   "metadata": {},
   "outputs": [],
   "source": []
  }
 ],
 "metadata": {
  "kernelspec": {
   "display_name": "chest",
   "language": "python",
   "name": "chest"
  },
  "language_info": {
   "codemirror_mode": {
    "name": "ipython",
    "version": 3
   },
   "file_extension": ".py",
   "mimetype": "text/x-python",
   "name": "python",
   "nbconvert_exporter": "python",
   "pygments_lexer": "ipython3",
   "version": "3.6.9"
  }
 },
 "nbformat": 4,
 "nbformat_minor": 5
}
