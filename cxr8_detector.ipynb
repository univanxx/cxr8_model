{
 "cells": [
  {
   "cell_type": "code",
   "execution_count": 1,
   "id": "7ae83093",
   "metadata": {},
   "outputs": [],
   "source": [
    "import torch\n",
    "import torch.nn as nn\n",
    "import torchvision.models as models"
   ]
  },
  {
   "cell_type": "code",
   "execution_count": 2,
   "id": "53366b16",
   "metadata": {},
   "outputs": [],
   "source": [
    "from MyModel import MyResNet"
   ]
  },
  {
   "cell_type": "code",
   "execution_count": 3,
   "id": "5184472a",
   "metadata": {},
   "outputs": [],
   "source": [
    "model = MyResNet()"
   ]
  },
  {
   "cell_type": "code",
   "execution_count": 4,
   "id": "3101d7f0",
   "metadata": {},
   "outputs": [
    {
     "data": {
      "text/plain": [
       "tensor([[ 0.2924,  0.6025, -0.0671, -0.0073, -0.0909, -0.4959,  0.2004, -0.2465],\n",
       "        [ 0.2926,  0.6025, -0.0671, -0.0074, -0.0909, -0.4960,  0.2001, -0.2471],\n",
       "        [ 0.2924,  0.6025, -0.0670, -0.0076, -0.0904, -0.4959,  0.2001, -0.2470],\n",
       "        [ 0.2925,  0.6026, -0.0671, -0.0073, -0.0907, -0.4959,  0.2002, -0.2464],\n",
       "        [ 0.2923,  0.6026, -0.0668, -0.0073, -0.0908, -0.4960,  0.2005, -0.2466],\n",
       "        [ 0.2924,  0.6025, -0.0669, -0.0077, -0.0905, -0.4958,  0.2002, -0.2466],\n",
       "        [ 0.2920,  0.6026, -0.0668, -0.0076, -0.0908, -0.4958,  0.1999, -0.2466],\n",
       "        [ 0.2922,  0.6027, -0.0669, -0.0070, -0.0910, -0.4960,  0.2002, -0.2466],\n",
       "        [ 0.2924,  0.6027, -0.0675, -0.0070, -0.0909, -0.4957,  0.2003, -0.2465],\n",
       "        [ 0.2923,  0.6028, -0.0666, -0.0072, -0.0905, -0.4959,  0.2000, -0.2470],\n",
       "        [ 0.2924,  0.6023, -0.0671, -0.0076, -0.0906, -0.4957,  0.2006, -0.2463],\n",
       "        [ 0.2921,  0.6025, -0.0669, -0.0076, -0.0906, -0.4958,  0.1999, -0.2468],\n",
       "        [ 0.2924,  0.6027, -0.0671, -0.0074, -0.0907, -0.4958,  0.2002, -0.2469],\n",
       "        [ 0.2923,  0.6028, -0.0671, -0.0069, -0.0909, -0.4960,  0.2001, -0.2469],\n",
       "        [ 0.2920,  0.6029, -0.0668, -0.0074, -0.0908, -0.4958,  0.2003, -0.2466],\n",
       "        [ 0.2923,  0.6029, -0.0673, -0.0073, -0.0907, -0.4961,  0.2002, -0.2468]],\n",
       "       grad_fn=<AddmmBackward0>)"
      ]
     },
     "execution_count": 4,
     "metadata": {},
     "output_type": "execute_result"
    }
   ],
   "source": [
    "##### Вывод модели: восемь логитов\n",
    "model.eval()\n",
    "test_input = torch.rand(16, 3, 32, 32)\n",
    "model(test_input)"
   ]
  },
  {
   "cell_type": "code",
   "execution_count": null,
   "id": "2b6fb6bf",
   "metadata": {},
   "outputs": [],
   "source": []
  },
  {
   "cell_type": "code",
   "execution_count": null,
   "id": "16477b6a",
   "metadata": {},
   "outputs": [],
   "source": []
  },
  {
   "cell_type": "code",
   "execution_count": null,
   "id": "a3c0cfd3",
   "metadata": {},
   "outputs": [],
   "source": []
  },
  {
   "cell_type": "code",
   "execution_count": null,
   "id": "ab26fada",
   "metadata": {},
   "outputs": [],
   "source": []
  },
  {
   "cell_type": "code",
   "execution_count": null,
   "id": "0b214455",
   "metadata": {},
   "outputs": [],
   "source": []
  },
  {
   "cell_type": "code",
   "execution_count": null,
   "id": "e5f78279",
   "metadata": {},
   "outputs": [],
   "source": []
  },
  {
   "cell_type": "code",
   "execution_count": null,
   "id": "df574f14",
   "metadata": {},
   "outputs": [],
   "source": []
  },
  {
   "cell_type": "code",
   "execution_count": null,
   "id": "db2b7aef",
   "metadata": {},
   "outputs": [],
   "source": []
  },
  {
   "cell_type": "code",
   "execution_count": null,
   "id": "a6b955d4",
   "metadata": {},
   "outputs": [],
   "source": []
  },
  {
   "cell_type": "code",
   "execution_count": null,
   "id": "7ee972f8",
   "metadata": {},
   "outputs": [],
   "source": []
  },
  {
   "cell_type": "code",
   "execution_count": null,
   "id": "36c11b24",
   "metadata": {},
   "outputs": [],
   "source": []
  },
  {
   "cell_type": "code",
   "execution_count": null,
   "id": "a9efeec5",
   "metadata": {},
   "outputs": [],
   "source": []
  }
 ],
 "metadata": {
  "kernelspec": {
   "display_name": "chest",
   "language": "python",
   "name": "chest"
  },
  "language_info": {
   "codemirror_mode": {
    "name": "ipython",
    "version": 3
   },
   "file_extension": ".py",
   "mimetype": "text/x-python",
   "name": "python",
   "nbconvert_exporter": "python",
   "pygments_lexer": "ipython3",
   "version": "3.6.9"
  }
 },
 "nbformat": 4,
 "nbformat_minor": 5
}
